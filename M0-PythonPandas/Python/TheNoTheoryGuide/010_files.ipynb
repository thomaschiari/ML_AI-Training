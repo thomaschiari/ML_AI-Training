{
 "cells": [
  {
   "cell_type": "markdown",
   "metadata": {},
   "source": [
    "# 010_files\n"
   ]
  },
  {
   "cell_type": "code",
   "execution_count": null,
   "metadata": {},
   "outputs": [],
   "source": [
    "# Opening a file\n",
    "'''\n",
    "Make sure you have a file in your directory before running this code.\n",
    "If you have a file but still getting errors, then make sure the path is correct.\n",
    "'''\n",
    "# Be sure to close a file after use\n",
    "file = open (\"./others/test.txt\")\n",
    "print (file.read())\n",
    "file.close()"
   ]
  },
  {
   "cell_type": "code",
   "execution_count": null,
   "metadata": {},
   "outputs": [],
   "source": [
    "# Modes to open a file\n",
    "file = open (\"./others/test.txt\", 'r')  # Opens in read mode\n",
    "file = open (\"./others/test.txt\", 'w')  # Opens in write mode\n",
    "file = open (\"./others/test.txt\", 'a')  # Opens in append mode\n",
    "file = open (\"./others/test.txt\", 'r+') # Allows to read and write\n",
    "\n",
    "file.close()"
   ]
  },
  {
   "cell_type": "code",
   "execution_count": null,
   "metadata": {},
   "outputs": [],
   "source": [
    "# Reading the entire file at once\n",
    "# 'with' keeps the file open as long as its needed then closes it\n",
    "with open (\"./others/test.txt\") as file:\n",
    "    content = file.read()\n",
    "    print (content)"
   ]
  },
  {
   "cell_type": "code",
   "execution_count": null,
   "metadata": {},
   "outputs": [],
   "source": [
    "# Reading the file line by line\n",
    "with open (\"./others/test.txt\") as file:\n",
    "    i = 0\n",
    "    for line in file:\n",
    "        i += 1\n",
    "        print (\"Line \" + str(i) + \" : \" + str(line))"
   ]
  },
  {
   "cell_type": "code",
   "execution_count": null,
   "metadata": {},
   "outputs": [],
   "source": [
    "# Writing to an empty file\n",
    "# When opening a file in 'w' mode, if the files contains something it will get erased\n",
    "# To retain the contents of the file open in 'a' mode, namely append mode\n",
    "with open(\"./others/test.txt\", 'w') as file:\n",
    "    file.write (\"Python is Love!\")\n",
    "    file.write (\"This is a second line.\")\n",
    "    file.write (\"Python doesn't add new lines on its own.\")\n",
    "    file.write (\"\\nSo lets provide some new lines.\\n\")\n",
    "    file.write (\"\\nBy the way, you just wrote multiple lines to a file :)\")\n",
    "    file.write (\"\\nAnd just remember 'with' closes the opened file.\")\n",
    "    file.write (\" So you do not have to close it yourself. When opened a file with 'with' :P\")"
   ]
  },
  {
   "cell_type": "code",
   "execution_count": null,
   "metadata": {},
   "outputs": [],
   "source": [
    "# Appending to a file\n",
    "with open(\"./others/test.txt\", 'a') as file:\n",
    "    file.write (\"\\nWell now the text in the opened file is retained.\")\n",
    "    file.write (\"\\nAnd you are appending text to already present text.\")\n",
    "    file.write (\"\\nCool!\")"
   ]
  }
 ],
 "metadata": {
  "kernelspec": {
   "display_name": "Python 3",
   "language": "python",
   "name": "python3"
  },
  "language_info": {
   "codemirror_mode": {
    "name": "ipython",
    "version": 3
   },
   "file_extension": ".py",
   "mimetype": "text/x-python",
   "name": "python",
   "nbconvert_exporter": "python",
   "pygments_lexer": "ipython3",
   "version": "3.6.3"
  }
 },
 "nbformat": 4,
 "nbformat_minor": 2
}
