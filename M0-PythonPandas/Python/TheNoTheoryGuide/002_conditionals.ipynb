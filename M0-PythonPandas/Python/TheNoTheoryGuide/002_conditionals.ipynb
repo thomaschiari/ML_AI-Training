{
 "cells": [
  {
   "cell_type": "markdown",
   "metadata": {},
   "source": [
    "# 002_conditionals"
   ]
  },
  {
   "cell_type": "markdown",
   "metadata": {},
   "source": [
    "## Conditional Blocks"
   ]
  },
  {
   "cell_type": "code",
   "execution_count": null,
   "metadata": {},
   "outputs": [],
   "source": [
    "# if..else\n",
    "v1 = 5\n",
    "if v1 == 5:\n",
    "    print (v1)\n",
    "else:\n",
    "    print (\"v1 is not 5\")"
   ]
  },
  {
   "cell_type": "code",
   "execution_count": null,
   "metadata": {},
   "outputs": [],
   "source": [
    "# if..elif..else\n",
    "s1 = \"Jennifer\"\n",
    "s2 = \"loves\"\n",
    "s3 = \"Python\"\n",
    "if s1 == \"Python\":\n",
    "    print (\"s1 is Python\")\n",
    "elif s2 == \"Jennifer\":\n",
    "    print (\"s2 is Jennifer\")\n",
    "elif s1 == \"loves\":\n",
    "    print (\"s1 is loves\")\n",
    "else:\n",
    "    print (\"Jennifer loves Python!\")"
   ]
  },
  {
   "cell_type": "code",
   "execution_count": null,
   "metadata": {},
   "outputs": [],
   "source": [
    "# One liner\n",
    "v1 = 5\n",
    "x = 10 if v1 == 5 else 13\n",
    "print (x)"
   ]
  },
  {
   "cell_type": "code",
   "execution_count": null,
   "metadata": {},
   "outputs": [],
   "source": [
    "# Let's see the conditionals available\n",
    "v1 = \"Jennifer\"\n",
    "v2 = \"Python\"\n",
    "v3 = 45\n",
    "v4 = 67\n",
    "v5 = 45\n",
    "\n",
    "# Test for equality\n",
    "print (v1 == v2)\n",
    "\n",
    "# Test for greater than and greater than equal\n",
    "print (v4 > v3)\n",
    "print (v5 >= v2)\n",
    "\n",
    "# Test for lesser than and lesser than equal\n",
    "print (v4 < v3)\n",
    "print (v5 <= v2)\n",
    "\n",
    "# Inequality\n",
    "print (v1 != v2)"
   ]
  },
  {
   "cell_type": "code",
   "execution_count": null,
   "metadata": {},
   "outputs": [],
   "source": [
    "# Note:\n",
    "v1 = 45\n",
    "v2 = \"45\"\n",
    "print (v1 == v2) # False\n",
    "print (str(v1) == v2) # True"
   ]
  },
  {
   "cell_type": "code",
   "execution_count": null,
   "metadata": {},
   "outputs": [],
   "source": [
    "# Ignore case when comparing two strings\n",
    "s1 = \"Jennifer\"\n",
    "s2 = \"jennifer\"\n",
    "\n",
    "print (s1 == s2) # False\n",
    "print (s1.lower() == s2.lower()) # True\n",
    "# OR\n",
    "print (s1.upper() == s2.upper()) # True"
   ]
  },
  {
   "cell_type": "code",
   "execution_count": null,
   "metadata": {},
   "outputs": [],
   "source": [
    "# Checking multiple conditions 'and' and 'or'\n",
    "v1 = \"Jennifer\"\n",
    "v2 = \"Python\"\n",
    "\n",
    "# 'and' -> evaluates true when both conditions are True\n",
    "print (v1 == \"Jennifer\" and v2 == \"Python\")\n",
    "# 'or' -> evaluates true when any one condition is True\n",
    "print (v1 == \"Python\" or v2 == \"Python\")"
   ]
  },
  {
   "cell_type": "markdown",
   "metadata": {},
   "source": [
    "##### Note: \n",
    "When making comparisons with string with '>' or '<'\n",
    "The strings are compared lexographically."
   ]
  },
  {
   "cell_type": "code",
   "execution_count": null,
   "metadata": {},
   "outputs": [],
   "source": [
    "s1 = \"Jennifer\"\n",
    "s2 = \"Python\"\n",
    "\n",
    "print (s1 > s2) # True -> since 'Jennifer' comes lexographically before 'Python'"
   ]
  },
  {
   "cell_type": "code",
   "execution_count": null,
   "metadata": {},
   "outputs": [],
   "source": [
    "# Check whether a value is in a list -> 'in'\n",
    "l1 = [23, 45, 67, \"Jennifer\", \"Python\", 'A']\n",
    "\n",
    "print (23 in l1)\n",
    "print ('A' in l1)\n",
    "print (\"Python\" in l1)\n",
    "print (32 in l1)"
   ]
  },
  {
   "cell_type": "code",
   "execution_count": null,
   "metadata": {},
   "outputs": [],
   "source": [
    "# Putting it together\n",
    "l1 = [23, 1, 'A', \"Jennifer\", 9.34]\n",
    "\n",
    "# This is True, so the other statements are not checked\n",
    "if 23 in l1 and 'B' not in l1: # Note: use of 'not'\n",
    "    print (\"1\")\n",
    "elif 23 >= l1[0]: # True\n",
    "    print (\"2\")\n",
    "elif 2.45 < l1[-1]: # True\n",
    "    print (\"3\")"
   ]
  },
  {
   "cell_type": "code",
   "execution_count": null,
   "metadata": {},
   "outputs": [],
   "source": [
    "# Checking if list is empty\n",
    "l1 = []\n",
    "l2 = [\"Jennifer\"]\n",
    "\n",
    "if l1:\n",
    "    print (1)\n",
    "elif l2:\n",
    "    print (2)"
   ]
  }
 ],
 "metadata": {
  "kernelspec": {
   "display_name": "Python 3",
   "language": "python",
   "name": "python3"
  },
  "language_info": {
   "codemirror_mode": {
    "name": "ipython",
    "version": 3
   },
   "file_extension": ".py",
   "mimetype": "text/x-python",
   "name": "python",
   "nbconvert_exporter": "python",
   "pygments_lexer": "ipython3",
   "version": "3.6.3"
  }
 },
 "nbformat": 4,
 "nbformat_minor": 2
}
