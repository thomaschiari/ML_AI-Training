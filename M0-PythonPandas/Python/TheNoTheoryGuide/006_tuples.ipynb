{
 "cells": [
  {
   "cell_type": "markdown",
   "metadata": {},
   "source": [
    "# 006_tuples"
   ]
  },
  {
   "cell_type": "code",
   "execution_count": null,
   "metadata": {},
   "outputs": [],
   "source": [
    "# Simple Tuples\n",
    "# Tuples are list, the elements stored in which cannot be changed.\n",
    "t1 = (23, 45)\n",
    "print (t1)\n",
    "print (t1[1])"
   ]
  },
  {
   "cell_type": "code",
   "execution_count": null,
   "metadata": {},
   "outputs": [],
   "source": [
    "# Can have more than two elements\n",
    "t1 = (1, 2, 3, 4, 5, 6, 7)\n",
    "print (t1)\n",
    "print (t1[4])"
   ]
  },
  {
   "cell_type": "code",
   "execution_count": null,
   "metadata": {},
   "outputs": [],
   "source": [
    "# Cannot change the elements stored as compared to lists\n",
    "l1 = [1, 2, 3, 4, 5, 6, 7]\n",
    "t1 = (1, 2, 3, 4, 5, 6, 7)\n",
    "\n",
    "# Can change elements in list\n",
    "l1[4] = 1\n",
    "# Cannot change elements in tuple (Uncomment it to see the error)\n",
    "#t1[4] = 1\n",
    "\n",
    "print (l1)\n",
    "print (t1)"
   ]
  },
  {
   "cell_type": "code",
   "execution_count": null,
   "metadata": {},
   "outputs": [],
   "source": [
    "# Looping over a tuple\n",
    "t1 = (34, 12, 56, 78, 89)\n",
    "for t in t1:\n",
    "    print (t)"
   ]
  },
  {
   "cell_type": "code",
   "execution_count": null,
   "metadata": {},
   "outputs": [],
   "source": [
    "# Writing over a tuple\n",
    "# One cannot change the elements stored in the tuple. \n",
    "# But you can assign a new tuple to the variable that stores the tuple you wanna change.\n",
    "t1 = (23, 12, 45, 78)\n",
    "print (t1)\n",
    "\n",
    "t1 = (45, 67) # t1 changed to new value\n",
    "print (t1)"
   ]
  }
 ],
 "metadata": {
  "kernelspec": {
   "display_name": "Python 3",
   "language": "python",
   "name": "python3"
  },
  "language_info": {
   "codemirror_mode": {
    "name": "ipython",
    "version": 3
   },
   "file_extension": ".py",
   "mimetype": "text/x-python",
   "name": "python",
   "nbconvert_exporter": "python",
   "pygments_lexer": "ipython3",
   "version": "3.6.3"
  }
 },
 "nbformat": 4,
 "nbformat_minor": 2
}
