{
 "cells": [
  {
   "cell_type": "markdown",
   "metadata": {},
   "source": [
    "# 008_functions\n"
   ]
  },
  {
   "cell_type": "code",
   "execution_count": null,
   "metadata": {},
   "outputs": [],
   "source": [
    "# Simple function\n",
    "# Function definition\n",
    "def a_func():\n",
    "    print (\"A Message from the other world!\")\n",
    "\n",
    "# Function Call\n",
    "a_func()\n",
    "a_func()"
   ]
  },
  {
   "cell_type": "code",
   "execution_count": null,
   "metadata": {},
   "outputs": [],
   "source": [
    "# Passing arguments to functions\n",
    "def add_two(num):\n",
    "    print (int(num)+2)\n",
    "\n",
    "add_two (3)\n",
    "add_two (\"45\") # This will work as we are casting the passed parameter to Integer before adding"
   ]
  },
  {
   "cell_type": "code",
   "execution_count": null,
   "metadata": {},
   "outputs": [],
   "source": [
    "# Multiple arguments\n",
    "def add_sub(add_two_to_this, sub_two_from_this):\n",
    "    print (\"Added 2 to : \" + str(add_two_to_this))\n",
    "    print (\"Answer: \" + str(int(add_two_to_this)+2))\n",
    "    \n",
    "    print (\"Subtracted 3 from : \" + str(sub_two_from_this))\n",
    "    print (\"Answer: \" + str(int(sub_two_from_this)-2))\n",
    "    \n",
    "add_sub (45, \"67\")\n",
    "add_sub (\"-156745\", 12131)"
   ]
  },
  {
   "cell_type": "code",
   "execution_count": null,
   "metadata": {},
   "outputs": [],
   "source": [
    "# Ordering of passed argument matters\n",
    "def coding_in(name, language):\n",
    "    print (str(name) + \" is coding in \" + str(language))\n",
    "    \n",
    "coding_in(\"Jennifer\", \"Python\")\n",
    "# If you change the order, results are unexpected\n",
    "coding_in(\"Python\", \"Jennifer\")"
   ]
  },
  {
   "cell_type": "code",
   "execution_count": null,
   "metadata": {},
   "outputs": [],
   "source": [
    "# Keyword Arguments\n",
    "# Pass the argumnets as key:value pairs, so even if unordered it won't produce unexpected results\n",
    "def coding_in(name, language):\n",
    "    print (str(name) + \" is coding in \" + str(language))\n",
    "    \n",
    "coding_in(name=\"Jennifer\", language=\"Python\")\n",
    "# If you change the order, results are same\n",
    "coding_in(language=\"Python\", name=\"Jennifer\")"
   ]
  },
  {
   "cell_type": "code",
   "execution_count": null,
   "metadata": {},
   "outputs": [],
   "source": [
    "# Default Values for parameters\n",
    "# Note: If you do not pass arguments required by the function and that argument does not have a default value, \n",
    "#       then python will throw an error\n",
    "def coding_in(name, language=\"Python\"):\n",
    "    print (str(name) + \" is coding in \" + str(language))\n",
    "    \n",
    "coding_in(\"Jennifer\") # Since 2nd argument is not passed, it takes on the default parameter given\n",
    "coding_in(\"Jennifer\", \"R\") # Since 2nd argument is passed, it takes on the passed arguemnt"
   ]
  },
  {
   "cell_type": "code",
   "execution_count": null,
   "metadata": {},
   "outputs": [],
   "source": [
    "# Note: You cannot have parameters with no default value after parameters having default value\n",
    "# Following is an error\n",
    "def coding_in(name, language1=\"Python\", language2):\n",
    "    print (str(name) + \" is coding in \" + str(language1) + \" and \" + str(language2))\n",
    "\n",
    "coding_in(\"Jennifer\", \"Python\", \"R\")"
   ]
  },
  {
   "cell_type": "code",
   "execution_count": null,
   "metadata": {},
   "outputs": [],
   "source": [
    "# Easy fix to above error is to declare all non-default parameters, \n",
    "# and then start declaring the default parameters\n",
    "# Note: Default parameters can be used to make an argument optional\n",
    "def coding_in(name, language2, language1=\"Python\"):\n",
    "    print (str(name) + \" is coding in \" + str(language1) + \" and \" + str(language2))\n",
    "\n",
    "coding_in(\"Jennifer\", \"Python\", \"R\")\n",
    "coding_in(\"Jennifer\", \"R\")"
   ]
  },
  {
   "cell_type": "code",
   "execution_count": null,
   "metadata": {},
   "outputs": [],
   "source": [
    "# All parameters can be default\n",
    "def coding_in(name=\"Jennifer\", language1=\"Python\", language2=\"R\"):\n",
    "    print (str(name) + \" is coding in \" + str(language1) + \" and \" + str(language2))\n",
    "\n",
    "coding_in()"
   ]
  },
  {
   "cell_type": "code",
   "execution_count": null,
   "metadata": {},
   "outputs": [],
   "source": [
    "# return\n",
    "def pow_4(num):\n",
    "    return num**4\n",
    "\n",
    "v1 = pow_4(34) # v1 now stores 34^4\n",
    "v2 = pow_4(23) # v2 now stores 23^4\n",
    "\n",
    "print (\"34^4 = \" + str(v1))\n",
    "print (\"23^4 = \" + str(v2))"
   ]
  },
  {
   "cell_type": "code",
   "execution_count": null,
   "metadata": {},
   "outputs": [],
   "source": [
    "# can return any data type or object from function\n",
    "def make_a_coder(name, age, language):\n",
    "    d1 = {'name': name, \n",
    "          'age' : age,\n",
    "          'language' : language}\n",
    "    return d1\n",
    "\n",
    "print(make_a_coder(\"Jennifer\", \"21\", \"Python\"))"
   ]
  },
  {
   "cell_type": "code",
   "execution_count": null,
   "metadata": {},
   "outputs": [],
   "source": [
    "# can pass any data type or object to function\n",
    "def make_many_coders(list_of_coders):\n",
    "    print (\"Name    \\tLanguage  \\tAge\")\n",
    "    print (\"========\\t==========\\t===\")\n",
    "    for coder,details in list_of_coders.items():\n",
    "        print (str(coder) + \"\\t\" + str(details[0]) + \"\\t\\t\" + str(details[-1]))\n",
    "    \n",
    "    return str(len(list_of_coders))\n",
    "\n",
    "d1 = {\"Jennifer\": [\"Python\", 21],\n",
    "      \"Scarlett\": [\"R\", 21]}\n",
    "print ('\\n' + make_many_coders(d1) + \" coders found!\")"
   ]
  },
  {
   "cell_type": "code",
   "execution_count": null,
   "metadata": {},
   "outputs": [],
   "source": [
    "# If a list passed to a function is changed inside the function then the change is permanent\n",
    "def make_language_list(language_list, new_language):\n",
    "    language_list.append(new_language)\n",
    "    \n",
    "lang_list = [\"Python\", \"R\"]\n",
    "print (lang_list)\n",
    "\n",
    "make_language_list(lang_list, \"Julia\")\n",
    "print (lang_list)"
   ]
  },
  {
   "cell_type": "code",
   "execution_count": null,
   "metadata": {},
   "outputs": [],
   "source": [
    "# Preventing a function from modifying a list\n",
    "def make_language_list(language_list, new_language):\n",
    "    language_list.append(new_language)\n",
    "    \n",
    "lang_list = [\"Python\", \"R\"]\n",
    "print (lang_list)\n",
    "\n",
    "make_language_list(lang_list[:], \"Julia\")\n",
    "print (lang_list)"
   ]
  },
  {
   "cell_type": "code",
   "execution_count": null,
   "metadata": {},
   "outputs": [],
   "source": [
    "# Passing Arbitrary number of arguments\n",
    "# The '*' tells Python to make a tuple of whatever number of arguments it receives at that position\n",
    "def languages(*many_languages): \n",
    "    print (many_languages)\n",
    "    \n",
    "languages (\"Python\")\n",
    "languages (\"Python\", \"R\", \"Julia\", \"Ruby\", \"Go\")"
   ]
  },
  {
   "cell_type": "code",
   "execution_count": null,
   "metadata": {},
   "outputs": [],
   "source": [
    "# Passing Arbitrary number of arguments with a normal argument\n",
    "# Note: The parameter that accepts arbitrary number of arguments needs to be placed at last\n",
    "def knows_languages(name, *languages):\n",
    "    print (str(name) +  \" knows: \" + str(languages))\n",
    "    \n",
    "knows_languages(\"Jennifer\", \"Python\")\n",
    "knows_languages(\"Jennifer\", \"Python\", \"R\", \"Julia\", \"Ruby\")"
   ]
  },
  {
   "cell_type": "code",
   "execution_count": null,
   "metadata": {},
   "outputs": [],
   "source": [
    "# Note: You cannot have two or more parameters that accepts arbitrary number of arguments\n",
    "# Hence, following is an error!\n",
    "def knows_languages_and_modules(name, *languages, *modules):\n",
    "    print (str(name) +  \" knows: \" + str(languages))\n",
    "    \n",
    "knows_languages(\"Jennifer\", \"Python\", \"PyGtk\")\n",
    "knows_languages(\"Jennifer\", \"Python\", \"R\", \"Julia\", \"Ruby\", \"PyGtk\", \"PyGame\", \"audioop\")"
   ]
  },
  {
   "cell_type": "code",
   "execution_count": null,
   "metadata": {},
   "outputs": [],
   "source": [
    "# Using Arbitrary Keyword Argument\n",
    "# Note: '**' tells Python to create a dictionary of the extra arguments passed after the first required positional argument\n",
    "def make_a_coder(name, **details):\n",
    "    coder = {}\n",
    "    coder[\"name\"] = name;\n",
    "    for key, value in details.items():\n",
    "        coder[key] = value\n",
    "    return coder\n",
    "\n",
    "print (make_a_coder(\"Jennifer\", location=\"California\", age=\"21\", language=(\"Python\", \"R\")))\n",
    "\n",
    "# We can do this since we are using keyword arguments\n",
    "print (make_a_coder(location=\"California\", age=\"21\", language=(\"Python\", \"R\"), name=\"Jennifer\"))"
   ]
  }
 ],
 "metadata": {
  "kernelspec": {
   "display_name": "Python 3",
   "language": "python",
   "name": "python3"
  },
  "language_info": {
   "codemirror_mode": {
    "name": "ipython",
    "version": 3
   },
   "file_extension": ".py",
   "mimetype": "text/x-python",
   "name": "python",
   "nbconvert_exporter": "python",
   "pygments_lexer": "ipython3",
   "version": "3.6.3"
  }
 },
 "nbformat": 4,
 "nbformat_minor": 2
}
